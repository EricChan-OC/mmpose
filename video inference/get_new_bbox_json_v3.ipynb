{
 "cells": [
  {
   "cell_type": "markdown",
   "id": "young-potter",
   "metadata": {},
   "source": [
    "## Import all Libraries"
   ]
  },
  {
   "cell_type": "code",
   "execution_count": 1,
   "id": "satellite-collect",
   "metadata": {},
   "outputs": [],
   "source": [
    "# AWS Rekognition to get bbox\n",
    "import numpy as np\n",
    "import boto3\n",
    "from PIL import Image, ImageDraw, ExifTags, ImageColor, ImageFont\n",
    "from matplotlib import pyplot as plt\n",
    "from utils.rekognition import determine_color, draw_animal_count\n",
    "import time\n",
    "import math\n",
    "import os\n",
    "import glob\n",
    "import io\n",
    "import json\n",
    "FNT = ImageFont.truetype('/usr/share/fonts/default/Type1/n019004l.pfb', 25)"
   ]
  },
  {
   "cell_type": "markdown",
   "id": "legal-marble",
   "metadata": {},
   "source": [
    "## Get Bounding Boxes from Video Frames"
   ]
  },
  {
   "cell_type": "code",
   "execution_count": 2,
   "id": "deadly-davis",
   "metadata": {},
   "outputs": [],
   "source": [
    "#draw response\n",
    "def draw_response(image, response, animal_target):\n",
    "    # original image size\n",
    "    draw = ImageDraw.Draw(image)\n",
    "\n",
    "    for customLabel in response['CustomLabels']:\n",
    "\n",
    "        if 'Geometry' in customLabel:\n",
    "            box = customLabel['Geometry']['BoundingBox']\n",
    "            left = box['Left']\n",
    "            top = box['Top']\n",
    "            width = box['Width']\n",
    "            height = box['Height']\n",
    "            #print(customLabel['Name'])\n",
    "            label = customLabel['Name']\n",
    "        \n",
    "            text = label\n",
    "            text_width, text_height = FNT.getsize(label)\n",
    "            color = determine_color(label, True)\n",
    "\n",
    "            button_width = int(text_width + 20)\n",
    "            button_height = int(text_height + 15)\n",
    "            button_size = (button_width, button_height)\n",
    "            button_img = Image.new('RGB', button_size, color)\n",
    "            button_draw = ImageDraw.Draw(button_img)\n",
    "            button_draw.text((10, 10), text, fill ='#000000', font=FNT)\n",
    "            image.paste(button_img, (int(left), int(top)))  \n",
    "\n",
    "            points = (\n",
    "                (left, top),\n",
    "                (left + width, top),\n",
    "                (left + width, top + height),\n",
    "                (left , top + height),\n",
    "                (left, top))\n",
    "            \n",
    "            thickness = 5\n",
    "            \n",
    "            if label == 'cow':\n",
    "                thickness = 7\n",
    "                \n",
    "            draw.line(points, fill=color, width=thickness)\n",
    "    \n",
    "    img = np.asarray(image)[:,:,::-1].copy()\n",
    "    return img"
   ]
  },
  {
   "cell_type": "code",
   "execution_count": 3,
   "id": "embedded-recognition",
   "metadata": {},
   "outputs": [],
   "source": [
    "def get_bbox_json(src_file, output_file, projectVersionArn, min_confidence=75):\n",
    "    start = time.time()\n",
    "    rekognition = boto3.client('rekognition')\n",
    "    count = 0\n",
    "    # get total frames\n",
    "    frame_total = 0\n",
    "    for infile in os.listdir(src_file):\n",
    "        if infile.endswith(\".jpg\"):\n",
    "            frame_total += 1\n",
    "    print('Total frames:', frame_total)\n",
    "    frame_res = [{} for _ in range(frame_total)]\n",
    "    # process each image file\n",
    "    for infile in os.listdir(src_file):\n",
    "        if infile.endswith(\".jpg\"):\n",
    "            file, ext = os.path.splitext(infile)\n",
    "            frameId = int(file)\n",
    "            #print('FrameId', frameId)\n",
    "#             srcBGR = cv2.imread(src_file+file+ext)\n",
    "#             img = cv2.cvtColor(srcBGR, cv2.COLOR_BGR2RGB)\n",
    "#             cv2.imwrite('./'+'temp_image.jpg', img)\n",
    "            with Image.open(src_file+file+ext) as img:\n",
    "                b, g, r = img.split()\n",
    "                img = Image.merge(\"RGB\", (r, g, b))\n",
    "                img.save('./'+'temp_image.jpg')\n",
    "                img_byte_arr = io.BytesIO()\n",
    "                img.save(img_byte_arr, format='PNG')\n",
    "                img_byte_arr = img_byte_arr.getvalue()\n",
    "                # get labels\n",
    "                response = rekognition.detect_custom_labels(\n",
    "                    Image={\n",
    "                        'Bytes': img_byte_arr,\n",
    "                    },\n",
    "                    ProjectVersionArn=projectVersionArn\n",
    "                )\n",
    "                imgWidth, imgHeight = img.size\n",
    "                # scale bbox coordiantion to image size \n",
    "                for idx, customLabel in enumerate(response['CustomLabels']):\n",
    "                    if 'Geometry' in customLabel:\n",
    "                        box = customLabel['Geometry']['BoundingBox']\n",
    "                        box['Left'] = imgWidth * box['Left']\n",
    "                        box['Top'] = imgHeight * box['Top']\n",
    "                        box['Width'] = imgWidth * box['Width']\n",
    "                        box['Height'] = imgHeight * box['Height']\n",
    "                #uncomment this part for testing\n",
    "                if frameId == 10:\n",
    "                    inferred_frame = draw_response(img, response, animal_target='cow')\n",
    "                    plt.imshow(inferred_frame)\n",
    "                    plt.title(\"Frame {}\".format(int(frameId)))\n",
    "                    plt.savefig('check.png')\n",
    "                    print('10')\n",
    "                frame_res[frameId] = {'CustomLabels': response['CustomLabels']}\n",
    "                    \n",
    "            count+=1\n",
    "            if count % 50 == 0:\n",
    "                print(\"Finish Processing {} frame\".format(count))\n",
    "                lap = time.time()\n",
    "                print('lap time: ', lap - start)\n",
    "                \n",
    "    #print(frame_res[617])\n",
    "    #the json file where the output must be stored\n",
    "    with open(output_file, 'w+') as out_file:\n",
    "        json.dump({'Frames':frame_res}, out_file)\n",
    "        out_file.close()\n",
    "    end = time.time()\n",
    "    print('total time lapse', end - start)"
   ]
  },
  {
   "cell_type": "code",
   "execution_count": 4,
   "id": "strange-algebra",
   "metadata": {
    "scrolled": true
   },
   "outputs": [
    {
     "name": "stdout",
     "output_type": "stream",
     "text": [
      "frame_img/cattle_multi_1/\n",
      "json_data_v3/cattle_multi_1_new_bbox.json\n",
      "Total frames: 1856\n"
     ]
    },
    {
     "ename": "ResourceNotReadyException",
     "evalue": "An error occurred (ResourceNotReadyException) when calling the DetectCustomLabels operation: ProjectVersion arn:aws:rekognition:us-east-1:617989056061:project/cow-detector/version/cow-detector.2021-05-27T13.18.14/1622146694516 is not ready",
     "output_type": "error",
     "traceback": [
      "\u001b[0;31m---------------------------------------------------------------------------\u001b[0m",
      "\u001b[0;31mResourceNotReadyException\u001b[0m                 Traceback (most recent call last)",
      "\u001b[0;32m<ipython-input-4-dbf4e5e91b00>\u001b[0m in \u001b[0;36m<module>\u001b[0;34m()\u001b[0m\n\u001b[1;32m      8\u001b[0m     \u001b[0mprint\u001b[0m\u001b[0;34m(\u001b[0m\u001b[0msrc_path\u001b[0m\u001b[0;34m)\u001b[0m\u001b[0;34m\u001b[0m\u001b[0;34m\u001b[0m\u001b[0m\n\u001b[1;32m      9\u001b[0m     \u001b[0mprint\u001b[0m\u001b[0;34m(\u001b[0m\u001b[0moutput_json_path\u001b[0m\u001b[0;34m)\u001b[0m\u001b[0;34m\u001b[0m\u001b[0;34m\u001b[0m\u001b[0m\n\u001b[0;32m---> 10\u001b[0;31m     \u001b[0mget_bbox_json\u001b[0m\u001b[0;34m(\u001b[0m\u001b[0msrc_path\u001b[0m\u001b[0;34m,\u001b[0m \u001b[0moutput_json_path\u001b[0m\u001b[0;34m,\u001b[0m \u001b[0msix_class_arn\u001b[0m\u001b[0;34m)\u001b[0m\u001b[0;34m\u001b[0m\u001b[0;34m\u001b[0m\u001b[0m\n\u001b[0m\u001b[1;32m     11\u001b[0m \u001b[0mprint\u001b[0m\u001b[0;34m(\u001b[0m\u001b[0;34m'finished estimating bbox.'\u001b[0m\u001b[0;34m)\u001b[0m\u001b[0;34m\u001b[0m\u001b[0;34m\u001b[0m\u001b[0m\n",
      "\u001b[0;32m<ipython-input-3-43383ab715f9>\u001b[0m in \u001b[0;36mget_bbox_json\u001b[0;34m(src_file, output_file, projectVersionArn, min_confidence)\u001b[0m\n\u001b[1;32m     31\u001b[0m                         \u001b[0;34m'Bytes'\u001b[0m\u001b[0;34m:\u001b[0m \u001b[0mimg_byte_arr\u001b[0m\u001b[0;34m,\u001b[0m\u001b[0;34m\u001b[0m\u001b[0;34m\u001b[0m\u001b[0m\n\u001b[1;32m     32\u001b[0m                     },\n\u001b[0;32m---> 33\u001b[0;31m                     \u001b[0mProjectVersionArn\u001b[0m\u001b[0;34m=\u001b[0m\u001b[0mprojectVersionArn\u001b[0m\u001b[0;34m\u001b[0m\u001b[0;34m\u001b[0m\u001b[0m\n\u001b[0m\u001b[1;32m     34\u001b[0m                 )\n\u001b[1;32m     35\u001b[0m                 \u001b[0mimgWidth\u001b[0m\u001b[0;34m,\u001b[0m \u001b[0mimgHeight\u001b[0m \u001b[0;34m=\u001b[0m \u001b[0mimg\u001b[0m\u001b[0;34m.\u001b[0m\u001b[0msize\u001b[0m\u001b[0;34m\u001b[0m\u001b[0;34m\u001b[0m\u001b[0m\n",
      "\u001b[0;32m/home/ubuntu/anaconda3/envs/pytorch_p36/lib/python3.6/site-packages/botocore/client.py\u001b[0m in \u001b[0;36m_api_call\u001b[0;34m(self, *args, **kwargs)\u001b[0m\n\u001b[1;32m    355\u001b[0m                     \"%s() only accepts keyword arguments.\" % py_operation_name)\n\u001b[1;32m    356\u001b[0m             \u001b[0;31m# The \"self\" in this scope is referring to the BaseClient.\u001b[0m\u001b[0;34m\u001b[0m\u001b[0;34m\u001b[0m\u001b[0;34m\u001b[0m\u001b[0m\n\u001b[0;32m--> 357\u001b[0;31m             \u001b[0;32mreturn\u001b[0m \u001b[0mself\u001b[0m\u001b[0;34m.\u001b[0m\u001b[0m_make_api_call\u001b[0m\u001b[0;34m(\u001b[0m\u001b[0moperation_name\u001b[0m\u001b[0;34m,\u001b[0m \u001b[0mkwargs\u001b[0m\u001b[0;34m)\u001b[0m\u001b[0;34m\u001b[0m\u001b[0;34m\u001b[0m\u001b[0m\n\u001b[0m\u001b[1;32m    358\u001b[0m \u001b[0;34m\u001b[0m\u001b[0m\n\u001b[1;32m    359\u001b[0m         \u001b[0m_api_call\u001b[0m\u001b[0;34m.\u001b[0m\u001b[0m__name__\u001b[0m \u001b[0;34m=\u001b[0m \u001b[0mstr\u001b[0m\u001b[0;34m(\u001b[0m\u001b[0mpy_operation_name\u001b[0m\u001b[0;34m)\u001b[0m\u001b[0;34m\u001b[0m\u001b[0;34m\u001b[0m\u001b[0m\n",
      "\u001b[0;32m/home/ubuntu/anaconda3/envs/pytorch_p36/lib/python3.6/site-packages/botocore/client.py\u001b[0m in \u001b[0;36m_make_api_call\u001b[0;34m(self, operation_name, api_params)\u001b[0m\n\u001b[1;32m    674\u001b[0m             \u001b[0merror_code\u001b[0m \u001b[0;34m=\u001b[0m \u001b[0mparsed_response\u001b[0m\u001b[0;34m.\u001b[0m\u001b[0mget\u001b[0m\u001b[0;34m(\u001b[0m\u001b[0;34m\"Error\"\u001b[0m\u001b[0;34m,\u001b[0m \u001b[0;34m{\u001b[0m\u001b[0;34m}\u001b[0m\u001b[0;34m)\u001b[0m\u001b[0;34m.\u001b[0m\u001b[0mget\u001b[0m\u001b[0;34m(\u001b[0m\u001b[0;34m\"Code\"\u001b[0m\u001b[0;34m)\u001b[0m\u001b[0;34m\u001b[0m\u001b[0;34m\u001b[0m\u001b[0m\n\u001b[1;32m    675\u001b[0m             \u001b[0merror_class\u001b[0m \u001b[0;34m=\u001b[0m \u001b[0mself\u001b[0m\u001b[0;34m.\u001b[0m\u001b[0mexceptions\u001b[0m\u001b[0;34m.\u001b[0m\u001b[0mfrom_code\u001b[0m\u001b[0;34m(\u001b[0m\u001b[0merror_code\u001b[0m\u001b[0;34m)\u001b[0m\u001b[0;34m\u001b[0m\u001b[0;34m\u001b[0m\u001b[0m\n\u001b[0;32m--> 676\u001b[0;31m             \u001b[0;32mraise\u001b[0m \u001b[0merror_class\u001b[0m\u001b[0;34m(\u001b[0m\u001b[0mparsed_response\u001b[0m\u001b[0;34m,\u001b[0m \u001b[0moperation_name\u001b[0m\u001b[0;34m)\u001b[0m\u001b[0;34m\u001b[0m\u001b[0;34m\u001b[0m\u001b[0m\n\u001b[0m\u001b[1;32m    677\u001b[0m         \u001b[0;32melse\u001b[0m\u001b[0;34m:\u001b[0m\u001b[0;34m\u001b[0m\u001b[0;34m\u001b[0m\u001b[0m\n\u001b[1;32m    678\u001b[0m             \u001b[0;32mreturn\u001b[0m \u001b[0mparsed_response\u001b[0m\u001b[0;34m\u001b[0m\u001b[0;34m\u001b[0m\u001b[0m\n",
      "\u001b[0;31mResourceNotReadyException\u001b[0m: An error occurred (ResourceNotReadyException) when calling the DetectCustomLabels operation: ProjectVersion arn:aws:rekognition:us-east-1:617989056061:project/cow-detector/version/cow-detector.2021-05-27T13.18.14/1622146694516 is not ready"
     ]
    }
   ],
   "source": [
    "six_class_arn = 'arn:aws:rekognition:us-east-1:617989056061:project/cow-detector/version/cow-detector.2021-05-27T13.18.14/1622146694516'\n",
    "# 'Maternity Pen 1_00_20210420044929', 'Maternity Pen 1_00_20210420044420', 'Maternity Pen 1_00_20210420044503'\n",
    "#, 'cattle_multi_1', 'cattle_single_1' \n",
    "video_name_list = ['cattle_multi_1']\n",
    "for video_name in video_name_list:\n",
    "    src_path = 'frame_img/'+video_name+'/'\n",
    "    output_json_path = 'json_data_v3/'+video_name+'_new_bbox.json'\n",
    "    print(src_path)\n",
    "    print(output_json_path)\n",
    "    get_bbox_json(src_path, output_json_path, six_class_arn)\n",
    "print('finished estimating bbox.')"
   ]
  },
  {
   "cell_type": "code",
   "execution_count": null,
   "id": "arbitrary-greensboro",
   "metadata": {},
   "outputs": [],
   "source": []
  }
 ],
 "metadata": {
  "kernelspec": {
   "display_name": "Python [conda env:pytorch_p36] *",
   "language": "python",
   "name": "conda-env-pytorch_p36-py"
  },
  "language_info": {
   "codemirror_mode": {
    "name": "ipython",
    "version": 3
   },
   "file_extension": ".py",
   "mimetype": "text/x-python",
   "name": "python",
   "nbconvert_exporter": "python",
   "pygments_lexer": "ipython3",
   "version": "3.6.13"
  }
 },
 "nbformat": 4,
 "nbformat_minor": 5
}
