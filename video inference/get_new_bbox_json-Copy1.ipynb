{
 "cells": [
  {
   "cell_type": "markdown",
   "id": "young-potter",
   "metadata": {},
   "source": [
    "## Import all Libraries"
   ]
  },
  {
   "cell_type": "code",
   "execution_count": 1,
   "id": "satellite-collect",
   "metadata": {},
   "outputs": [],
   "source": [
    "# AWS Rekognition to get bbox\n",
    "import numpy as np\n",
    "import boto3\n",
    "from PIL import Image, ImageDraw, ExifTags, ImageColor, ImageFont\n",
    "from matplotlib import pyplot as plt\n",
    "from utils.rekognition import determine_color, draw_animal_count\n",
    "import time\n",
    "import math\n",
    "import os\n",
    "import glob\n",
    "import io\n",
    "import json\n",
    "FNT = ImageFont.truetype('/usr/share/fonts/default/Type1/n019004l.pfb', 25)"
   ]
  },
  {
   "cell_type": "markdown",
   "id": "legal-marble",
   "metadata": {},
   "source": [
    "## Get Bounding Boxes from Video Frames"
   ]
  },
  {
   "cell_type": "code",
   "execution_count": 2,
   "id": "deadly-davis",
   "metadata": {},
   "outputs": [],
   "source": [
    "#draw response\n",
    "def draw_response(image, response, animal_target):\n",
    "    # original image size\n",
    "    draw = ImageDraw.Draw(image)\n",
    "\n",
    "    for customLabel in response['CustomLabels']:\n",
    "\n",
    "        if 'Geometry' in customLabel:\n",
    "            box = customLabel['Geometry']['BoundingBox']\n",
    "            left = box['Left']\n",
    "            top = box['Top']\n",
    "            width = box['Width']\n",
    "            height = box['Height']\n",
    "            #print(customLabel['Name'])\n",
    "            label = customLabel['Name']\n",
    "        \n",
    "            text = label\n",
    "            text_width, text_height = FNT.getsize(label)\n",
    "            color = determine_color(label, True)\n",
    "\n",
    "            button_width = int(text_width + 20)\n",
    "            button_height = int(text_height + 15)\n",
    "            button_size = (button_width, button_height)\n",
    "            button_img = Image.new('RGB', button_size, color)\n",
    "            button_draw = ImageDraw.Draw(button_img)\n",
    "            button_draw.text((10, 10), text, fill ='#000000', font=FNT)\n",
    "            image.paste(button_img, (int(left), int(top)))  \n",
    "\n",
    "            points = (\n",
    "                (left, top),\n",
    "                (left + width, top),\n",
    "                (left + width, top + height),\n",
    "                (left , top + height),\n",
    "                (left, top))\n",
    "            \n",
    "            thickness = 5\n",
    "            \n",
    "            if label == 'cow':\n",
    "                thickness = 7\n",
    "                \n",
    "            draw.line(points, fill=color, width=thickness)\n",
    "    \n",
    "    img = np.asarray(image)[:,:,::-1].copy()\n",
    "    return img"
   ]
  },
  {
   "cell_type": "code",
   "execution_count": 3,
   "id": "embedded-recognition",
   "metadata": {},
   "outputs": [],
   "source": [
    "def get_bbox_json(src_file, output_file, projectVersionArn, min_confidence=75):\n",
    "    start = time.time()\n",
    "    rekognition = boto3.client('rekognition')\n",
    "    count = 0\n",
    "    # get total frames\n",
    "    frame_total = 0\n",
    "    for infile in os.listdir(src_file):\n",
    "        if infile.endswith(\".jpg\"):\n",
    "            frame_total += 1\n",
    "    print('Total frames:', frame_total)\n",
    "    frame_res = [{} for _ in range(frame_total)]\n",
    "    # process each image file\n",
    "    for infile in os.listdir(src_file):\n",
    "        if infile.endswith(\".jpg\"):\n",
    "            file, ext = os.path.splitext(infile)\n",
    "            frameId = int(file)\n",
    "            #print('FrameId', frameId)\n",
    "            with Image.open(src_file+file+ext) as img:\n",
    "                #print(img.size)\n",
    "                img_byte_arr = io.BytesIO()\n",
    "                img.save(img_byte_arr, format='PNG')\n",
    "                img_byte_arr = img_byte_arr.getvalue()\n",
    "                # get labels\n",
    "                response = rekognition.detect_custom_labels(\n",
    "                    Image={\n",
    "                        'Bytes': img_byte_arr,\n",
    "                    },\n",
    "                    ProjectVersionArn=projectVersionArn\n",
    "                )\n",
    "                imgWidth, imgHeight = img.size\n",
    "                # scale bbox coordiantion to image size \n",
    "                for idx, customLabel in enumerate(response['CustomLabels']):\n",
    "                    if 'Geometry' in customLabel:\n",
    "                        box = customLabel['Geometry']['BoundingBox']\n",
    "                        box['Left'] = imgWidth * box['Left']\n",
    "                        box['Top'] = imgHeight * box['Top']\n",
    "                        box['Width'] = imgWidth * box['Width']\n",
    "                        box['Height'] = imgHeight * box['Height']\n",
    "#                 if frameId == 200:\n",
    "#                     inferred_frame = draw_response(img, response, animal_target='cow')\n",
    "#                     plt.imshow(inferred_frame)\n",
    "#                     plt.title(\"Frame {}\".format(int(frameId)))\n",
    "#                     plt.show()\n",
    "                frame_res[frameId] = {'CustomLabels': response['CustomLabels']}\n",
    "                    \n",
    "            count+=1\n",
    "            if count % 50 == 0:\n",
    "                print(\"Finish Processing {} frame\".format(count))\n",
    "                lap = time.time()\n",
    "                print('lap time: ', lap - start)\n",
    "                \n",
    "    #print(frame_res[617])\n",
    "    #the json file where the output must be stored\n",
    "    with open(output_file, 'w+') as out_file:\n",
    "        json.dump({'Frames':frame_res}, out_file)\n",
    "        out_file.close()\n",
    "    end = time.time()\n",
    "    print('total time lapse', end - start)"
   ]
  },
  {
   "cell_type": "code",
   "execution_count": 4,
   "id": "strange-algebra",
   "metadata": {
    "scrolled": true
   },
   "outputs": [
    {
     "name": "stdout",
     "output_type": "stream",
     "text": [
      "frame_img/contraction_1/\n",
      "json_data/contraction_1_new_bbox.json\n",
      "Total frames: 379\n",
      "Finish Processing 50 frame\n",
      "lap time:  176.84133553504944\n",
      "Finish Processing 100 frame\n",
      "lap time:  354.8308629989624\n",
      "Finish Processing 150 frame\n",
      "lap time:  531.6761612892151\n",
      "Finish Processing 200 frame\n",
      "lap time:  709.3462665081024\n",
      "Finish Processing 250 frame\n",
      "lap time:  886.7243905067444\n",
      "Finish Processing 300 frame\n",
      "lap time:  1062.9446153640747\n",
      "Finish Processing 350 frame\n",
      "lap time:  1238.8183283805847\n",
      "total time lapse 1341.9550337791443\n",
      "finished estimating bbox.\n"
     ]
    }
   ],
   "source": [
    "six_class_arn = 'arn:aws:rekognition:us-east-1:617989056061:project/cow-detector/version/cow-detector.2021-05-27T13.18.14/1622146694516'\n",
    "# 'Maternity Pen 1_00_20210420044929', 'Maternity Pen 1_00_20210420044420', 'Maternity Pen 1_00_20210420044503'\n",
    "#, 'cattle_multi_1', 'cattle_single_1' \n",
    "video_name_list = ['IMG_1501']\n",
    "for video_name in video_name_list:\n",
    "    src_path = 'frame_img/'+video_name+'/'\n",
    "    output_json_path = 'json_data/'+video_name+'_new_bbox.json'\n",
    "    print(src_path)\n",
    "    print(output_json_path)\n",
    "    get_bbox_json(src_path, output_json_path, six_class_arn)\n",
    "print('finished estimating bbox.')"
   ]
  },
  {
   "cell_type": "code",
   "execution_count": null,
   "id": "arbitrary-greensboro",
   "metadata": {},
   "outputs": [],
   "source": []
  }
 ],
 "metadata": {
  "kernelspec": {
   "display_name": "Python [conda env:pytorch_p36] *",
   "language": "python",
   "name": "conda-env-pytorch_p36-py"
  },
  "language_info": {
   "codemirror_mode": {
    "name": "ipython",
    "version": 3
   },
   "file_extension": ".py",
   "mimetype": "text/x-python",
   "name": "python",
   "nbconvert_exporter": "python",
   "pygments_lexer": "ipython3",
   "version": "3.6.13"
  }
 },
 "nbformat": 4,
 "nbformat_minor": 5
}
